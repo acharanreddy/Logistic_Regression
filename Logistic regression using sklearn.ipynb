{
 "cells": [
  {
   "cell_type": "code",
   "execution_count": 1,
   "metadata": {},
   "outputs": [
    {
     "data": {
      "text/plain": [
       "array([[ 7.62115459],\n",
       "       [ 1.19630112],\n",
       "       [ 3.53380644],\n",
       "       [ 9.25439181],\n",
       "       [ 7.11829494],\n",
       "       [-0.39419152],\n",
       "       [ 3.67626798],\n",
       "       [-0.37559365],\n",
       "       [ 0.47366376],\n",
       "       [ 2.08654845],\n",
       "       [ 1.13644197],\n",
       "       [ 6.08890743],\n",
       "       [ 2.7857832 ],\n",
       "       [ 1.05971955],\n",
       "       [ 1.69505192],\n",
       "       [ 1.57543423],\n",
       "       [ 6.26049188],\n",
       "       [-0.25166129],\n",
       "       [ 1.43649462],\n",
       "       [-0.57743374],\n",
       "       [-2.44006216],\n",
       "       [ 2.28465414],\n",
       "       [ 3.54721625],\n",
       "       [-0.34424925],\n",
       "       [ 8.87064814],\n",
       "       [-1.49925604],\n",
       "       [ 0.052488  ],\n",
       "       [ 0.36759527],\n",
       "       [ 6.33280528],\n",
       "       [ 5.99967363],\n",
       "       [ 0.38881488],\n",
       "       [ 1.67442484],\n",
       "       [-1.09008555],\n",
       "       [-1.9712473 ],\n",
       "       [-0.53866597],\n",
       "       [ 0.82832586],\n",
       "       [ 5.09413997],\n",
       "       [ 4.74702977],\n",
       "       [-0.2685248 ],\n",
       "       [-0.6302212 ],\n",
       "       [-1.49593024],\n",
       "       [-1.28820043],\n",
       "       [-1.65626814],\n",
       "       [ 7.99361101],\n",
       "       [ 0.20529125],\n",
       "       [-0.15473046],\n",
       "       [-1.52664203],\n",
       "       [ 3.44506631],\n",
       "       [-2.00867007],\n",
       "       [-0.35121566],\n",
       "       [-0.91593904],\n",
       "       [ 2.06161281],\n",
       "       [-0.73423158],\n",
       "       [-1.42856375],\n",
       "       [-0.05771799],\n",
       "       [ 1.514284  ],\n",
       "       [ 0.60405967],\n",
       "       [ 0.88590814],\n",
       "       [-0.97856269],\n",
       "       [-0.49408718],\n",
       "       [-0.82187018],\n",
       "       [ 0.21930645],\n",
       "       [-0.52832004],\n",
       "       [-1.70001723],\n",
       "       [ 0.34207391],\n",
       "       [-0.14847204],\n",
       "       [-1.93026295],\n",
       "       [ 1.38769769],\n",
       "       [-0.55088943],\n",
       "       [ 0.30286437],\n",
       "       [ 3.1926199 ],\n",
       "       [ 0.61154994],\n",
       "       [ 4.81465192],\n",
       "       [-1.4301335 ],\n",
       "       [ 1.29909371],\n",
       "       [-0.48033174],\n",
       "       [-1.11182005],\n",
       "       [-0.7857146 ],\n",
       "       [-0.44821228],\n",
       "       [ 0.22990512],\n",
       "       [-1.27134801],\n",
       "       [ 3.19082056],\n",
       "       [ 1.66956424],\n",
       "       [-2.20326463],\n",
       "       [ 6.14057821],\n",
       "       [ 7.10293941],\n",
       "       [ 4.38380328],\n",
       "       [-0.16427531],\n",
       "       [-1.29262152],\n",
       "       [ 4.68071129],\n",
       "       [-0.79103402],\n",
       "       [ 4.96989554],\n",
       "       [ 0.82131507],\n",
       "       [ 3.5561281 ],\n",
       "       [ 1.58244859],\n",
       "       [ 2.77482877],\n",
       "       [ 0.27353725],\n",
       "       [ 7.39053322],\n",
       "       [ 1.15661916],\n",
       "       [ 2.00891584]])"
      ]
     },
     "execution_count": 1,
     "metadata": {},
     "output_type": "execute_result"
    }
   ],
   "source": [
    "import numpy as np\n",
    "import matplotlib.pyplot as plt\n",
    "\n",
    "from sklearn import linear_model\n",
    "\n",
    "# this is our test set, it's just a straight line with some\n",
    "\n",
    "xmin, xmax = -5, 5\n",
    "n_samples = 100\n",
    "np.random.seed(0)\n",
    "X = np.random.normal(size=n_samples)\n",
    "y = (X > 0).astype(np.float)\n",
    "X[X > 0] *= 4\n",
    "X += .3 * np.random.normal(size=n_samples)\n",
    "\n",
    "X = X[:, np.newaxis]\n",
    "#x values\n",
    "X"
   ]
  },
  {
   "cell_type": "code",
   "execution_count": 3,
   "metadata": {},
   "outputs": [
    {
     "data": {
      "text/plain": [
       "array([ 1.,  1.,  1.,  1.,  1.,  0.,  1.,  0.,  0.,  1.,  1.,  1.,  1.,\n",
       "        1.,  1.,  1.,  1.,  0.,  1.,  0.,  0.,  1.,  1.,  0.,  1.,  0.,\n",
       "        1.,  0.,  1.,  1.,  1.,  1.,  0.,  0.,  0.,  1.,  1.,  1.,  0.,\n",
       "        0.,  0.,  0.,  0.,  1.,  0.,  0.,  0.,  1.,  0.,  0.,  0.,  1.,\n",
       "        0.,  0.,  0.,  1.,  1.,  1.,  0.,  0.,  0.,  0.,  0.,  0.,  1.,\n",
       "        0.,  0.,  1.,  0.,  1.,  1.,  1.,  1.,  0.,  1.,  0.,  0.,  0.,\n",
       "        0.,  1.,  0.,  1.,  1.,  0.,  1.,  1.,  1.,  0.,  0.,  1.,  0.,\n",
       "        1.,  1.,  1.,  1.,  1.,  1.,  1.,  1.,  1.])"
      ]
     },
     "execution_count": 3,
     "metadata": {},
     "output_type": "execute_result"
    }
   ],
   "source": [
    "#y values\n",
    "y"
   ]
  },
  {
   "cell_type": "code",
   "execution_count": 6,
   "metadata": {},
   "outputs": [
    {
     "data": {
      "image/png": "[encoded data removed]",
      "text/plain": [
       "<matplotlib.figure.Figure at 0x24d9eb45390>"
      ]
     },
     "metadata": {},
     "output_type": "display_data"
    }
   ],
   "source": [
    "clf = linear_model.LogisticRegression(C=1e5)\n",
    "clf.fit(X, y)\n",
    "\n",
    "# and plot the result\n",
    "plt.figure(1, figsize=(4, 3))\n",
    "plt.clf()\n",
    "#labeling points\n",
    "#plt.scatter(X.ravel(), y, color='black', zorder=20)\n",
    "X_test = np.linspace(-5, 10, 300)\n",
    "\n",
    "\n",
    "def model(x):\n",
    "    return 1 / (1 + np.exp(-x))\n",
    "loss = model(X_test * clf.coef_ + clf.intercept_).ravel()\n",
    "plt.plot(X_test, loss, color='orange', linewidth=3)\n",
    "plt.axhline(.5, color='.5')\n",
    "plt.ylabel('y')\n",
    "plt.xlabel('X')\n",
    "plt.xticks(range(-5, 10))\n",
    "plt.yticks([0, 0.5, 1])\n",
    "plt.ylim(-.25, 1.25)\n",
    "plt.xlim(-4, 10)\n",
    "plt.title(\"Logistic Regression\")\n",
    "plt.show()\n"
   ]
  }
 ],
 "metadata": {
  "kernelspec": {
   "display_name": "Python 3",
   "language": "python",
   "name": "python3"
  },
  "language_info": {
   "codemirror_mode": {
    "name": "ipython",
    "version": 3
   },
   "file_extension": ".py",
   "mimetype": "text/x-python",
   "name": "python",
   "nbconvert_exporter": "python",
   "pygments_lexer": "ipython3",
   "version": "3.6.1"
  }
 },
 "nbformat": 4,
 "nbformat_minor": 2
}
